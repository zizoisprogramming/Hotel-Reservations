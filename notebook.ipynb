{
 "cells": [
  {
   "cell_type": "markdown",
   "metadata": {},
   "source": [
    "## Import Libraries and Read data"
   ]
  },
  {
   "cell_type": "code",
   "execution_count": 19,
   "metadata": {},
   "outputs": [],
   "source": [
    "import pandas as pd\n",
    "import matplotlib.pyplot as plt\n",
    "import seaborn as sns\n",
    "import numpy as np\n",
    "\n",
    "%matplotlib inline"
   ]
  },
  {
   "cell_type": "code",
   "execution_count": 20,
   "metadata": {},
   "outputs": [],
   "source": [
    "data = pd.read_csv(r\"D:\\Internships\\Cellula\\Projects\\First\\Hotel-Reservations\\first inten project.csv\")"
   ]
  },
  {
   "cell_type": "markdown",
   "metadata": {},
   "source": [
    "## EDA"
   ]
  },
  {
   "cell_type": "code",
   "execution_count": 21,
   "metadata": {},
   "outputs": [
    {
     "data": {
      "text/html": [
       "<div>\n",
       "<style scoped>\n",
       "    .dataframe tbody tr th:only-of-type {\n",
       "        vertical-align: middle;\n",
       "    }\n",
       "\n",
       "    .dataframe tbody tr th {\n",
       "        vertical-align: top;\n",
       "    }\n",
       "\n",
       "    .dataframe thead th {\n",
       "        text-align: right;\n",
       "    }\n",
       "</style>\n",
       "<table border=\"1\" class=\"dataframe\">\n",
       "  <thead>\n",
       "    <tr style=\"text-align: right;\">\n",
       "      <th></th>\n",
       "      <th>Booking_ID</th>\n",
       "      <th>number of adults</th>\n",
       "      <th>number of children</th>\n",
       "      <th>number of weekend nights</th>\n",
       "      <th>number of week nights</th>\n",
       "      <th>type of meal</th>\n",
       "      <th>car parking space</th>\n",
       "      <th>room type</th>\n",
       "      <th>lead time</th>\n",
       "      <th>market segment type</th>\n",
       "      <th>repeated</th>\n",
       "      <th>P-C</th>\n",
       "      <th>P-not-C</th>\n",
       "      <th>average price</th>\n",
       "      <th>special requests</th>\n",
       "      <th>date of reservation</th>\n",
       "      <th>booking status</th>\n",
       "    </tr>\n",
       "  </thead>\n",
       "  <tbody>\n",
       "    <tr>\n",
       "      <th>0</th>\n",
       "      <td>INN00001</td>\n",
       "      <td>1</td>\n",
       "      <td>1</td>\n",
       "      <td>2</td>\n",
       "      <td>5</td>\n",
       "      <td>Meal Plan 1</td>\n",
       "      <td>0</td>\n",
       "      <td>Room_Type 1</td>\n",
       "      <td>224</td>\n",
       "      <td>Offline</td>\n",
       "      <td>0</td>\n",
       "      <td>0</td>\n",
       "      <td>0</td>\n",
       "      <td>88.00</td>\n",
       "      <td>0</td>\n",
       "      <td>10/2/2015</td>\n",
       "      <td>Not_Canceled</td>\n",
       "    </tr>\n",
       "    <tr>\n",
       "      <th>1</th>\n",
       "      <td>INN00002</td>\n",
       "      <td>1</td>\n",
       "      <td>0</td>\n",
       "      <td>1</td>\n",
       "      <td>3</td>\n",
       "      <td>Not Selected</td>\n",
       "      <td>0</td>\n",
       "      <td>Room_Type 1</td>\n",
       "      <td>5</td>\n",
       "      <td>Online</td>\n",
       "      <td>0</td>\n",
       "      <td>0</td>\n",
       "      <td>0</td>\n",
       "      <td>106.68</td>\n",
       "      <td>1</td>\n",
       "      <td>11/6/2018</td>\n",
       "      <td>Not_Canceled</td>\n",
       "    </tr>\n",
       "    <tr>\n",
       "      <th>2</th>\n",
       "      <td>INN00003</td>\n",
       "      <td>2</td>\n",
       "      <td>1</td>\n",
       "      <td>1</td>\n",
       "      <td>3</td>\n",
       "      <td>Meal Plan 1</td>\n",
       "      <td>0</td>\n",
       "      <td>Room_Type 1</td>\n",
       "      <td>1</td>\n",
       "      <td>Online</td>\n",
       "      <td>0</td>\n",
       "      <td>0</td>\n",
       "      <td>0</td>\n",
       "      <td>50.00</td>\n",
       "      <td>0</td>\n",
       "      <td>2/28/2018</td>\n",
       "      <td>Canceled</td>\n",
       "    </tr>\n",
       "    <tr>\n",
       "      <th>3</th>\n",
       "      <td>INN00004</td>\n",
       "      <td>1</td>\n",
       "      <td>0</td>\n",
       "      <td>0</td>\n",
       "      <td>2</td>\n",
       "      <td>Meal Plan 1</td>\n",
       "      <td>0</td>\n",
       "      <td>Room_Type 1</td>\n",
       "      <td>211</td>\n",
       "      <td>Online</td>\n",
       "      <td>0</td>\n",
       "      <td>0</td>\n",
       "      <td>0</td>\n",
       "      <td>100.00</td>\n",
       "      <td>1</td>\n",
       "      <td>5/20/2017</td>\n",
       "      <td>Canceled</td>\n",
       "    </tr>\n",
       "    <tr>\n",
       "      <th>4</th>\n",
       "      <td>INN00005</td>\n",
       "      <td>1</td>\n",
       "      <td>0</td>\n",
       "      <td>1</td>\n",
       "      <td>2</td>\n",
       "      <td>Not Selected</td>\n",
       "      <td>0</td>\n",
       "      <td>Room_Type 1</td>\n",
       "      <td>48</td>\n",
       "      <td>Online</td>\n",
       "      <td>0</td>\n",
       "      <td>0</td>\n",
       "      <td>0</td>\n",
       "      <td>77.00</td>\n",
       "      <td>0</td>\n",
       "      <td>4/11/2018</td>\n",
       "      <td>Canceled</td>\n",
       "    </tr>\n",
       "  </tbody>\n",
       "</table>\n",
       "</div>"
      ],
      "text/plain": [
       "  Booking_ID  number of adults  number of children  number of weekend nights  \\\n",
       "0   INN00001                 1                   1                         2   \n",
       "1   INN00002                 1                   0                         1   \n",
       "2   INN00003                 2                   1                         1   \n",
       "3   INN00004                 1                   0                         0   \n",
       "4   INN00005                 1                   0                         1   \n",
       "\n",
       "   number of week nights  type of meal  car parking space    room type  \\\n",
       "0                      5   Meal Plan 1                  0  Room_Type 1   \n",
       "1                      3  Not Selected                  0  Room_Type 1   \n",
       "2                      3   Meal Plan 1                  0  Room_Type 1   \n",
       "3                      2   Meal Plan 1                  0  Room_Type 1   \n",
       "4                      2  Not Selected                  0  Room_Type 1   \n",
       "\n",
       "   lead time market segment type  repeated  P-C  P-not-C  average price   \\\n",
       "0        224             Offline         0    0        0           88.00   \n",
       "1          5              Online         0    0        0          106.68   \n",
       "2          1              Online         0    0        0           50.00   \n",
       "3        211              Online         0    0        0          100.00   \n",
       "4         48              Online         0    0        0           77.00   \n",
       "\n",
       "   special requests date of reservation booking status  \n",
       "0                 0           10/2/2015   Not_Canceled  \n",
       "1                 1           11/6/2018   Not_Canceled  \n",
       "2                 0           2/28/2018       Canceled  \n",
       "3                 1           5/20/2017       Canceled  \n",
       "4                 0           4/11/2018       Canceled  "
      ]
     },
     "execution_count": 21,
     "metadata": {},
     "output_type": "execute_result"
    }
   ],
   "source": [
    "data.head()"
   ]
  },
  {
   "cell_type": "code",
   "execution_count": 22,
   "metadata": {},
   "outputs": [
    {
     "name": "stdout",
     "output_type": "stream",
     "text": [
      "<class 'pandas.core.frame.DataFrame'>\n",
      "RangeIndex: 36285 entries, 0 to 36284\n",
      "Data columns (total 17 columns):\n",
      " #   Column                    Non-Null Count  Dtype  \n",
      "---  ------                    --------------  -----  \n",
      " 0   Booking_ID                36285 non-null  object \n",
      " 1   number of adults          36285 non-null  int64  \n",
      " 2   number of children        36285 non-null  int64  \n",
      " 3   number of weekend nights  36285 non-null  int64  \n",
      " 4   number of week nights     36285 non-null  int64  \n",
      " 5   type of meal              36285 non-null  object \n",
      " 6   car parking space         36285 non-null  int64  \n",
      " 7   room type                 36285 non-null  object \n",
      " 8   lead time                 36285 non-null  int64  \n",
      " 9   market segment type       36285 non-null  object \n",
      " 10  repeated                  36285 non-null  int64  \n",
      " 11  P-C                       36285 non-null  int64  \n",
      " 12  P-not-C                   36285 non-null  int64  \n",
      " 13  average price             36285 non-null  float64\n",
      " 14  special requests          36285 non-null  int64  \n",
      " 15  date of reservation       36285 non-null  object \n",
      " 16  booking status            36285 non-null  object \n",
      "dtypes: float64(1), int64(10), object(6)\n",
      "memory usage: 4.7+ MB\n"
     ]
    }
   ],
   "source": [
    "data.info()"
   ]
  },
  {
   "cell_type": "code",
   "execution_count": 23,
   "metadata": {},
   "outputs": [
    {
     "data": {
      "text/plain": [
       "Booking_ID                  0\n",
       "special requests            0\n",
       "average price               0\n",
       "P-not-C                     0\n",
       "P-C                         0\n",
       "repeated                    0\n",
       "market segment type         0\n",
       "date of reservation         0\n",
       "lead time                   0\n",
       "car parking space           0\n",
       "type of meal                0\n",
       "number of week nights       0\n",
       "number of weekend nights    0\n",
       "number of children          0\n",
       "number of adults            0\n",
       "room type                   0\n",
       "booking status              0\n",
       "dtype: int64"
      ]
     },
     "execution_count": 23,
     "metadata": {},
     "output_type": "execute_result"
    }
   ],
   "source": [
    "data.isna().sum().sort_values()"
   ]
  },
  {
   "cell_type": "code",
   "execution_count": 24,
   "metadata": {},
   "outputs": [],
   "source": [
    "features_frame = data.drop(['booking status','Booking_ID'], axis= 1)\n",
    "target = data[\"booking status\"]"
   ]
  },
  {
   "cell_type": "code",
   "execution_count": 25,
   "metadata": {},
   "outputs": [
    {
     "data": {
      "text/plain": [
       "<Axes: xlabel='booking status', ylabel='count'>"
      ]
     },
     "execution_count": 25,
     "metadata": {},
     "output_type": "execute_result"
    },
    {
     "data": {
      "image/png": "[encoded data removed]",
      "text/plain": [
       "<Figure size 600x400 with 1 Axes>"
      ]
     },
     "metadata": {},
     "output_type": "display_data"
    }
   ],
   "source": [
    "plt.figure(figsize=(6,4))\n",
    "sns.countplot(x=\"booking status\", data= data)"
   ]
  },
  {
   "cell_type": "markdown",
   "metadata": {},
   "source": [
    "### Categorical Features"
   ]
  },
  {
   "cell_type": "code",
   "execution_count": 26,
   "metadata": {},
   "outputs": [
    {
     "data": {
      "text/plain": [
       "<Axes: xlabel='type of meal', ylabel='count'>"
      ]
     },
     "execution_count": 26,
     "metadata": {},
     "output_type": "execute_result"
    },
    {
     "data": {
      "image/png": "[encoded data removed]",
      "text/plain": [
       "<Figure size 640x480 with 1 Axes>"
      ]
     },
     "metadata": {},
     "output_type": "display_data"
    }
   ],
   "source": [
    "sns.countplot(x=\"type of meal\", data= features_frame)"
   ]
  },
  {
   "cell_type": "code",
   "execution_count": 27,
   "metadata": {},
   "outputs": [
    {
     "data": {
      "image/png": "[encoded data removed]",
      "text/plain": [
       "<Figure size 640x480 with 1 Axes>"
      ]
     },
     "metadata": {},
     "output_type": "display_data"
    }
   ],
   "source": [
    "plt.Figure(figsize=(8,8))\n",
    "room_plot = sns.countplot(x=\"room type\", data= features_frame)\n",
    "room_plot.set_xticklabels(room_plot.get_xticklabels(), rotation=45)\n",
    "plt.show()"
   ]
  },
  {
   "cell_type": "code",
   "execution_count": 28,
   "metadata": {},
   "outputs": [
    {
     "data": {
      "image/png": "[encoded data removed]",
      "text/plain": [
       "<Figure size 640x480 with 1 Axes>"
      ]
     },
     "metadata": {},
     "output_type": "display_data"
    }
   ],
   "source": [
    "plt.Figure(figsize=(10,3))\n",
    "room_plot = sns.countplot(x=\"market segment type\", data= features_frame)\n",
    "room_plot.set_xticklabels(room_plot.get_xticklabels(), rotation=45)\n",
    "plt.show()"
   ]
  },
  {
   "cell_type": "code",
   "execution_count": 29,
   "metadata": {},
   "outputs": [
    {
     "data": {
      "text/plain": [
       "[None]"
      ]
     },
     "execution_count": 29,
     "metadata": {},
     "output_type": "execute_result"
    },
    {
     "data": {
      "image/png": "[encoded data removed]",
      "text/plain": [
       "<Figure size 1000x300 with 1 Axes>"
      ]
     },
     "metadata": {},
     "output_type": "display_data"
    }
   ],
   "source": [
    "plt.figure(figsize=(10,3))\n",
    "s = sns.countplot(x= \"P-C\", data= features_frame)\n",
    "s.set(yscale= 'log')"
   ]
  },
  {
   "cell_type": "code",
   "execution_count": 30,
   "metadata": {},
   "outputs": [
    {
     "data": {
      "text/plain": [
       "[None]"
      ]
     },
     "execution_count": 30,
     "metadata": {},
     "output_type": "execute_result"
    },
    {
     "data": {
      "image/png": "[encoded data removed]",
      "text/plain": [
       "<Figure size 1000x300 with 1 Axes>"
      ]
     },
     "metadata": {},
     "output_type": "display_data"
    }
   ],
   "source": [
    "plt.figure(figsize=(10,3))\n",
    "plot_pnotc = sns.countplot(x= \"P-not-C\", data= features_frame)\n",
    "plt.xticks(rotation= 90)\n",
    "plot_pnotc.set(yscale= 'log')"
   ]
  },
  {
   "cell_type": "code",
   "execution_count": 31,
   "metadata": {},
   "outputs": [
    {
     "data": {
      "text/plain": [
       "<Axes: xlabel='car parking space', ylabel='count'>"
      ]
     },
     "execution_count": 31,
     "metadata": {},
     "output_type": "execute_result"
    },
    {
     "data": {
      "image/png": "[encoded data removed]",
      "text/plain": [
       "<Figure size 1000x300 with 1 Axes>"
      ]
     },
     "metadata": {},
     "output_type": "display_data"
    }
   ],
   "source": [
    "plt.figure(figsize=(10,3))\n",
    "sns.countplot(x='car parking space', data= features_frame)"
   ]
  },
  {
   "cell_type": "code",
   "execution_count": 32,
   "metadata": {},
   "outputs": [
    {
     "data": {
      "text/plain": [
       "<Axes: xlabel='repeated', ylabel='count'>"
      ]
     },
     "execution_count": 32,
     "metadata": {},
     "output_type": "execute_result"
    },
    {
     "data": {
      "image/png": "[encoded data removed]",
      "text/plain": [
       "<Figure size 1000x300 with 1 Axes>"
      ]
     },
     "metadata": {},
     "output_type": "display_data"
    }
   ],
   "source": [
    "plt.figure(figsize=(10,3))\n",
    "sns.countplot(x=\"repeated\", data= features_frame)"
   ]
  },
  {
   "cell_type": "code",
   "execution_count": 33,
   "metadata": {},
   "outputs": [],
   "source": [
    "target = target.reset_index().drop(['index'], axis= 1)\n",
    "target[\"booking status\"] = np.where(target['booking status'] == 'Not_Canceled',1, 0)"
   ]
  },
  {
   "cell_type": "code",
   "execution_count": 34,
   "metadata": {},
   "outputs": [
    {
     "data": {
      "text/plain": [
       "<Axes: xlabel='booking status', ylabel='count'>"
      ]
     },
     "execution_count": 34,
     "metadata": {},
     "output_type": "execute_result"
    },
    {
     "data": {
      "image/png": "[encoded data removed]",
      "text/plain": [
       "<Figure size 640x480 with 1 Axes>"
      ]
     },
     "metadata": {},
     "output_type": "display_data"
    }
   ],
   "source": [
    "sns.countplot(x='booking status', data= target)"
   ]
  },
  {
   "cell_type": "code",
   "execution_count": 35,
   "metadata": {},
   "outputs": [],
   "source": [
    "data[\"booking status\"] = data[\"booking status\"].apply(lambda x : 1 if x == \"Not_Canceled\" else 0)\n",
    "df_cat = data[['type of meal','car parking space', 'room type', 'market segment type', 'repeated', 'P-C',\n",
    "       'P-not-C',\"booking status\"]]"
   ]
  },
  {
   "cell_type": "code",
   "execution_count": 36,
   "metadata": {},
   "outputs": [],
   "source": [
    "meal_target = df_cat.groupby('type of meal')['booking status'].agg(['sum','count'])\n",
    "meal_target['non_cancelled_ratio'] = (meal_target['sum']) / meal_target['count']\n",
    "meal_target['cancelled_ratio'] = 1 - meal_target['non_cancelled_ratio']"
   ]
  },
  {
   "cell_type": "code",
   "execution_count": 37,
   "metadata": {},
   "outputs": [],
   "source": [
    "meal_target = meal_target.reset_index().drop(['sum','count'], axis= 1)"
   ]
  },
  {
   "cell_type": "code",
   "execution_count": 38,
   "metadata": {},
   "outputs": [
    {
     "data": {
      "image/png": "[encoded data removed]",
      "text/plain": [
       "<Figure size 500x300 with 1 Axes>"
      ]
     },
     "metadata": {},
     "output_type": "display_data"
    }
   ],
   "source": [
    "plt.figure(figsize=(5,3))\n",
    "bars= plt.bar(meal_target['type of meal'], meal_target['non_cancelled_ratio'])\n",
    "plt.xlabel(\"Type of meal\")\n",
    "plt.ylabel(\"Non cancelled\")\n",
    "for bar in bars:\n",
    "    yval = bar.get_height()\n",
    "    plt.text(bar.get_x() + bar.get_width() / 2, yval, round(yval, 2), ha='center', va='bottom')\n",
    "plt.show()"
   ]
  },
  {
   "cell_type": "code",
   "execution_count": 39,
   "metadata": {},
   "outputs": [
    {
     "data": {
      "text/html": [
       "<div>\n",
       "<style scoped>\n",
       "    .dataframe tbody tr th:only-of-type {\n",
       "        vertical-align: middle;\n",
       "    }\n",
       "\n",
       "    .dataframe tbody tr th {\n",
       "        vertical-align: top;\n",
       "    }\n",
       "\n",
       "    .dataframe thead th {\n",
       "        text-align: right;\n",
       "    }\n",
       "</style>\n",
       "<table border=\"1\" class=\"dataframe\">\n",
       "  <thead>\n",
       "    <tr style=\"text-align: right;\">\n",
       "      <th></th>\n",
       "      <th>car parking space</th>\n",
       "      <th>non_cancelled_ratio</th>\n",
       "    </tr>\n",
       "  </thead>\n",
       "  <tbody>\n",
       "    <tr>\n",
       "      <th>0</th>\n",
       "      <td>0</td>\n",
       "      <td>0.665112</td>\n",
       "    </tr>\n",
       "    <tr>\n",
       "      <th>1</th>\n",
       "      <td>1</td>\n",
       "      <td>0.898577</td>\n",
       "    </tr>\n",
       "  </tbody>\n",
       "</table>\n",
       "</div>"
      ],
      "text/plain": [
       "   car parking space  non_cancelled_ratio\n",
       "0                  0             0.665112\n",
       "1                  1             0.898577"
      ]
     },
     "execution_count": 39,
     "metadata": {},
     "output_type": "execute_result"
    }
   ],
   "source": [
    "car_target = df_cat.groupby(\"car parking space\")[\"booking status\"].agg([\"sum\",\"count\"]).reset_index()\n",
    "car_target[\"non_cancelled_ratio\"] = car_target[\"sum\"] / car_target[\"count\"]\n",
    "car_target.drop([\"sum\",\"count\"], axis=1, inplace= True)\n",
    "car_target"
   ]
  },
  {
   "cell_type": "code",
   "execution_count": 40,
   "metadata": {},
   "outputs": [
    {
     "data": {
      "image/png": "[encoded data removed]",
      "text/plain": [
       "<Figure size 640x480 with 1 Axes>"
      ]
     },
     "metadata": {},
     "output_type": "display_data"
    }
   ],
   "source": [
    "bars = plt.bar(car_target[\"car parking space\"], car_target[\"non_cancelled_ratio\"])\n",
    "plt.xlabel(\"car parking space\")\n",
    "plt.ylabel(\"Non cancelled\")\n",
    "for bar in bars:\n",
    "    yval = bar.get_height()\n",
    "    plt.text(bar.get_x() + bar.get_width() / 2, yval, round(yval, 2), ha='center', va='bottom')\n",
    "plt.show()"
   ]
  },
  {
   "cell_type": "code",
   "execution_count": 41,
   "metadata": {},
   "outputs": [
    {
     "data": {
      "text/html": [
       "<div>\n",
       "<style scoped>\n",
       "    .dataframe tbody tr th:only-of-type {\n",
       "        vertical-align: middle;\n",
       "    }\n",
       "\n",
       "    .dataframe tbody tr th {\n",
       "        vertical-align: top;\n",
       "    }\n",
       "\n",
       "    .dataframe thead th {\n",
       "        text-align: right;\n",
       "    }\n",
       "</style>\n",
       "<table border=\"1\" class=\"dataframe\">\n",
       "  <thead>\n",
       "    <tr style=\"text-align: right;\">\n",
       "      <th></th>\n",
       "      <th>room type</th>\n",
       "      <th>non_cancelled_ratio</th>\n",
       "    </tr>\n",
       "  </thead>\n",
       "  <tbody>\n",
       "    <tr>\n",
       "      <th>0</th>\n",
       "      <td>Room_Type 1</td>\n",
       "      <td>0.677447</td>\n",
       "    </tr>\n",
       "    <tr>\n",
       "      <th>1</th>\n",
       "      <td>Room_Type 2</td>\n",
       "      <td>0.670520</td>\n",
       "    </tr>\n",
       "    <tr>\n",
       "      <th>2</th>\n",
       "      <td>Room_Type 3</td>\n",
       "      <td>0.714286</td>\n",
       "    </tr>\n",
       "    <tr>\n",
       "      <th>3</th>\n",
       "      <td>Room_Type 4</td>\n",
       "      <td>0.658525</td>\n",
       "    </tr>\n",
       "    <tr>\n",
       "      <th>4</th>\n",
       "      <td>Room_Type 5</td>\n",
       "      <td>0.728302</td>\n",
       "    </tr>\n",
       "    <tr>\n",
       "      <th>5</th>\n",
       "      <td>Room_Type 6</td>\n",
       "      <td>0.579710</td>\n",
       "    </tr>\n",
       "    <tr>\n",
       "      <th>6</th>\n",
       "      <td>Room_Type 7</td>\n",
       "      <td>0.772152</td>\n",
       "    </tr>\n",
       "  </tbody>\n",
       "</table>\n",
       "</div>"
      ],
      "text/plain": [
       "     room type  non_cancelled_ratio\n",
       "0  Room_Type 1             0.677447\n",
       "1  Room_Type 2             0.670520\n",
       "2  Room_Type 3             0.714286\n",
       "3  Room_Type 4             0.658525\n",
       "4  Room_Type 5             0.728302\n",
       "5  Room_Type 6             0.579710\n",
       "6  Room_Type 7             0.772152"
      ]
     },
     "execution_count": 41,
     "metadata": {},
     "output_type": "execute_result"
    }
   ],
   "source": [
    "room_target = df_cat.groupby(\"room type\")[\"booking status\"].agg([\"sum\",\"count\"]).reset_index()\n",
    "room_target[\"non_cancelled_ratio\"]  = room_target[\"sum\"] / room_target[\"count\"]\n",
    "room_target.drop([\"sum\",\"count\"], axis= 1, inplace= True)\n",
    "room_target"
   ]
  },
  {
   "cell_type": "code",
   "execution_count": 63,
   "metadata": {},
   "outputs": [
    {
     "ename": "IndexError",
     "evalue": "invalid index to scalar variable.",
     "output_type": "error",
     "traceback": [
      "\u001b[1;31m---------------------------------------------------------------------------\u001b[0m",
      "\u001b[1;31mIndexError\u001b[0m                                Traceback (most recent call last)",
      "Cell \u001b[1;32mIn[63], line 6\u001b[0m\n\u001b[0;32m      4\u001b[0m \u001b[38;5;66;03m# Step 5: Add ratios to the pie chart\u001b[39;00m\n\u001b[0;32m      5\u001b[0m \u001b[38;5;28;01mfor\u001b[39;00m i, autotext \u001b[38;5;129;01min\u001b[39;00m \u001b[38;5;28menumerate\u001b[39m(autotexts):\n\u001b[1;32m----> 6\u001b[0m     ratio \u001b[38;5;241m=\u001b[39m \u001b[38;5;124mf\u001b[39m\u001b[38;5;124m\"\u001b[39m\u001b[38;5;132;01m{\u001b[39;00mroom_target[\u001b[38;5;124m'\u001b[39m\u001b[38;5;124mnon_cancelled_ratio\u001b[39m\u001b[38;5;124m'\u001b[39m]\u001b[38;5;250m \u001b[39m\u001b[38;5;241m/\u001b[39m\u001b[38;5;250m \u001b[39mroom_target[\u001b[38;5;124m'\u001b[39m\u001b[38;5;124mnon_cancelled_ratio\u001b[39m\u001b[38;5;124m'\u001b[39m]\u001b[38;5;241m.\u001b[39msum()[i]\u001b[38;5;132;01m:\u001b[39;00m\u001b[38;5;124m.2%\u001b[39m\u001b[38;5;132;01m}\u001b[39;00m\u001b[38;5;124m\"\u001b[39m\n\u001b[0;32m      7\u001b[0m     autotext\u001b[38;5;241m.\u001b[39mset_text(\u001b[38;5;124mf\u001b[39m\u001b[38;5;124m\"\u001b[39m\u001b[38;5;132;01m{\u001b[39;00mautotext\u001b[38;5;241m.\u001b[39mget_text()\u001b[38;5;132;01m}\u001b[39;00m\u001b[38;5;130;01m\\n\u001b[39;00m\u001b[38;5;124m(\u001b[39m\u001b[38;5;132;01m{\u001b[39;00mroom_target[\u001b[38;5;124m'\u001b[39m\u001b[38;5;124mnon_cancelled_ratio\u001b[39m\u001b[38;5;124m'\u001b[39m]\u001b[38;5;250m \u001b[39m\u001b[38;5;241m/\u001b[39m\u001b[38;5;250m \u001b[39mroom_target[\u001b[38;5;124m'\u001b[39m\u001b[38;5;124mnon_cancelled_ratio\u001b[39m\u001b[38;5;124m'\u001b[39m]\u001b[38;5;241m.\u001b[39msum()\u001b[38;5;132;01m}\u001b[39;00m\u001b[38;5;124m)\u001b[39m\u001b[38;5;124m\"\u001b[39m)\n\u001b[0;32m      9\u001b[0m \u001b[38;5;66;03m# Step 6: Display the pie chart\u001b[39;00m\n",
      "\u001b[1;31mIndexError\u001b[0m: invalid index to scalar variable."
     ]
    },
    {
     "data": {
      "image/png": "[encoded data removed]",
      "text/plain": [
       "<Figure size 640x480 with 1 Axes>"
      ]
     },
     "metadata": {},
     "output_type": "display_data"
    }
   ],
   "source": [
    "fig, ax = plt.subplots()\n",
    "wedges, texts, autotexts = ax.pie(room_target['non_cancelled_ratio'], labels=room_target['room type'], autopct='%1.1f%%', startangle=90,shadow=True)\n",
    "\n",
    "# Step 5: Add ratios to the pie chart\n",
    "for i, autotext in enumerate(autotexts):\n",
    "    ratio = f\"{room_target['non_cancelled_ratio'] / room_target['non_cancelled_ratio'].sum()[i]:.2%}\"\n",
    "    autotext.set_text(f\"{autotext.get_text()}\\n({room_target['non_cancelled_ratio'] / room_target['non_cancelled_ratio'].sum()})\")\n",
    "\n",
    "# Step 6: Display the pie chart\n",
    "plt.show()"
   ]
  },
  {
   "cell_type": "code",
   "execution_count": 43,
   "metadata": {},
   "outputs": [],
   "source": [
    "df_cat_not_cancelled = df_cat[df_cat[\"booking status\"] == 1]\n",
    "df_cat_cancelled = df_cat[df_cat[\"booking status\"] == 0]"
   ]
  },
  {
   "cell_type": "code",
   "execution_count": 44,
   "metadata": {},
   "outputs": [
    {
     "data": {
      "text/html": [
       "<div>\n",
       "<style scoped>\n",
       "    .dataframe tbody tr th:only-of-type {\n",
       "        vertical-align: middle;\n",
       "    }\n",
       "\n",
       "    .dataframe tbody tr th {\n",
       "        vertical-align: top;\n",
       "    }\n",
       "\n",
       "    .dataframe thead th {\n",
       "        text-align: right;\n",
       "    }\n",
       "</style>\n",
       "<table border=\"1\" class=\"dataframe\">\n",
       "  <thead>\n",
       "    <tr style=\"text-align: right;\">\n",
       "      <th>type of meal</th>\n",
       "      <th>Meal Plan 1</th>\n",
       "      <th>Meal Plan 2</th>\n",
       "      <th>Meal Plan 3</th>\n",
       "      <th>Not Selected</th>\n",
       "    </tr>\n",
       "    <tr>\n",
       "      <th>room type</th>\n",
       "      <th></th>\n",
       "      <th></th>\n",
       "      <th></th>\n",
       "      <th></th>\n",
       "    </tr>\n",
       "  </thead>\n",
       "  <tbody>\n",
       "    <tr>\n",
       "      <th>Room_Type 1</th>\n",
       "      <td>14139</td>\n",
       "      <td>1569</td>\n",
       "      <td>0</td>\n",
       "      <td>3354</td>\n",
       "    </tr>\n",
       "    <tr>\n",
       "      <th>Room_Type 2</th>\n",
       "      <td>443</td>\n",
       "      <td>10</td>\n",
       "      <td>0</td>\n",
       "      <td>11</td>\n",
       "    </tr>\n",
       "    <tr>\n",
       "      <th>Room_Type 3</th>\n",
       "      <td>3</td>\n",
       "      <td>0</td>\n",
       "      <td>0</td>\n",
       "      <td>2</td>\n",
       "    </tr>\n",
       "    <tr>\n",
       "      <th>Room_Type 4</th>\n",
       "      <td>3769</td>\n",
       "      <td>185</td>\n",
       "      <td>1</td>\n",
       "      <td>35</td>\n",
       "    </tr>\n",
       "    <tr>\n",
       "      <th>Room_Type 5</th>\n",
       "      <td>180</td>\n",
       "      <td>5</td>\n",
       "      <td>0</td>\n",
       "      <td>8</td>\n",
       "    </tr>\n",
       "    <tr>\n",
       "      <th>Room_Type 6</th>\n",
       "      <td>511</td>\n",
       "      <td>28</td>\n",
       "      <td>0</td>\n",
       "      <td>21</td>\n",
       "    </tr>\n",
       "    <tr>\n",
       "      <th>Room_Type 7</th>\n",
       "      <td>116</td>\n",
       "      <td>2</td>\n",
       "      <td>3</td>\n",
       "      <td>1</td>\n",
       "    </tr>\n",
       "  </tbody>\n",
       "</table>\n",
       "</div>"
      ],
      "text/plain": [
       "type of meal  Meal Plan 1  Meal Plan 2  Meal Plan 3  Not Selected\n",
       "room type                                                        \n",
       "Room_Type 1         14139         1569            0          3354\n",
       "Room_Type 2           443           10            0            11\n",
       "Room_Type 3             3            0            0             2\n",
       "Room_Type 4          3769          185            1            35\n",
       "Room_Type 5           180            5            0             8\n",
       "Room_Type 6           511           28            0            21\n",
       "Room_Type 7           116            2            3             1"
      ]
     },
     "execution_count": 44,
     "metadata": {},
     "output_type": "execute_result"
    }
   ],
   "source": [
    "pd.crosstab(df_cat_not_cancelled[\"room type\"], df_cat_not_cancelled[\"type of meal\"])"
   ]
  },
  {
   "cell_type": "code",
   "execution_count": 45,
   "metadata": {},
   "outputs": [
    {
     "data": {
      "text/html": [
       "<div>\n",
       "<style scoped>\n",
       "    .dataframe tbody tr th:only-of-type {\n",
       "        vertical-align: middle;\n",
       "    }\n",
       "\n",
       "    .dataframe tbody tr th {\n",
       "        vertical-align: top;\n",
       "    }\n",
       "\n",
       "    .dataframe thead th {\n",
       "        text-align: right;\n",
       "    }\n",
       "</style>\n",
       "<table border=\"1\" class=\"dataframe\">\n",
       "  <thead>\n",
       "    <tr style=\"text-align: right;\">\n",
       "      <th>type of meal</th>\n",
       "      <th>Meal Plan 1</th>\n",
       "      <th>Meal Plan 2</th>\n",
       "      <th>Meal Plan 3</th>\n",
       "      <th>Not Selected</th>\n",
       "    </tr>\n",
       "    <tr>\n",
       "      <th>room type</th>\n",
       "      <th></th>\n",
       "      <th></th>\n",
       "      <th></th>\n",
       "      <th></th>\n",
       "    </tr>\n",
       "  </thead>\n",
       "  <tbody>\n",
       "    <tr>\n",
       "      <th>Room_Type 1</th>\n",
       "      <td>6023</td>\n",
       "      <td>1366</td>\n",
       "      <td>1</td>\n",
       "      <td>1686</td>\n",
       "    </tr>\n",
       "    <tr>\n",
       "      <th>Room_Type 2</th>\n",
       "      <td>210</td>\n",
       "      <td>6</td>\n",
       "      <td>0</td>\n",
       "      <td>12</td>\n",
       "    </tr>\n",
       "    <tr>\n",
       "      <th>Room_Type 3</th>\n",
       "      <td>2</td>\n",
       "      <td>0</td>\n",
       "      <td>0</td>\n",
       "      <td>0</td>\n",
       "    </tr>\n",
       "    <tr>\n",
       "      <th>Room_Type 4</th>\n",
       "      <td>1981</td>\n",
       "      <td>88</td>\n",
       "      <td>0</td>\n",
       "      <td>0</td>\n",
       "    </tr>\n",
       "    <tr>\n",
       "      <th>Room_Type 5</th>\n",
       "      <td>62</td>\n",
       "      <td>9</td>\n",
       "      <td>0</td>\n",
       "      <td>1</td>\n",
       "    </tr>\n",
       "    <tr>\n",
       "      <th>Room_Type 6</th>\n",
       "      <td>367</td>\n",
       "      <td>38</td>\n",
       "      <td>0</td>\n",
       "      <td>1</td>\n",
       "    </tr>\n",
       "    <tr>\n",
       "      <th>Room_Type 7</th>\n",
       "      <td>36</td>\n",
       "      <td>0</td>\n",
       "      <td>0</td>\n",
       "      <td>0</td>\n",
       "    </tr>\n",
       "  </tbody>\n",
       "</table>\n",
       "</div>"
      ],
      "text/plain": [
       "type of meal  Meal Plan 1  Meal Plan 2  Meal Plan 3  Not Selected\n",
       "room type                                                        \n",
       "Room_Type 1          6023         1366            1          1686\n",
       "Room_Type 2           210            6            0            12\n",
       "Room_Type 3             2            0            0             0\n",
       "Room_Type 4          1981           88            0             0\n",
       "Room_Type 5            62            9            0             1\n",
       "Room_Type 6           367           38            0             1\n",
       "Room_Type 7            36            0            0             0"
      ]
     },
     "execution_count": 45,
     "metadata": {},
     "output_type": "execute_result"
    }
   ],
   "source": [
    "pd.crosstab(df_cat_cancelled[\"room type\"], df_cat_cancelled[\"type of meal\"])"
   ]
  },
  {
   "cell_type": "code",
   "execution_count": 46,
   "metadata": {},
   "outputs": [
    {
     "data": {
      "text/html": [
       "<div>\n",
       "<style scoped>\n",
       "    .dataframe tbody tr th:only-of-type {\n",
       "        vertical-align: middle;\n",
       "    }\n",
       "\n",
       "    .dataframe tbody tr th {\n",
       "        vertical-align: top;\n",
       "    }\n",
       "\n",
       "    .dataframe thead th {\n",
       "        text-align: right;\n",
       "    }\n",
       "</style>\n",
       "<table border=\"1\" class=\"dataframe\">\n",
       "  <thead>\n",
       "    <tr style=\"text-align: right;\">\n",
       "      <th>market segment type</th>\n",
       "      <th>Aviation</th>\n",
       "      <th>Complementary</th>\n",
       "      <th>Corporate</th>\n",
       "      <th>Offline</th>\n",
       "      <th>Online</th>\n",
       "    </tr>\n",
       "    <tr>\n",
       "      <th>room type</th>\n",
       "      <th></th>\n",
       "      <th></th>\n",
       "      <th></th>\n",
       "      <th></th>\n",
       "      <th></th>\n",
       "    </tr>\n",
       "  </thead>\n",
       "  <tbody>\n",
       "    <tr>\n",
       "      <th>Room_Type 1</th>\n",
       "      <td>0.511364</td>\n",
       "      <td>0.631714</td>\n",
       "      <td>0.921536</td>\n",
       "      <td>0.904026</td>\n",
       "      <td>0.708472</td>\n",
       "    </tr>\n",
       "    <tr>\n",
       "      <th>Room_Type 2</th>\n",
       "      <td>0.000000</td>\n",
       "      <td>0.051151</td>\n",
       "      <td>0.001113</td>\n",
       "      <td>0.006642</td>\n",
       "      <td>0.026657</td>\n",
       "    </tr>\n",
       "    <tr>\n",
       "      <th>Room_Type 3</th>\n",
       "      <td>0.000000</td>\n",
       "      <td>0.005115</td>\n",
       "      <td>0.000556</td>\n",
       "      <td>0.000271</td>\n",
       "      <td>0.000000</td>\n",
       "    </tr>\n",
       "    <tr>\n",
       "      <th>Room_Type 4</th>\n",
       "      <td>0.488636</td>\n",
       "      <td>0.132992</td>\n",
       "      <td>0.043406</td>\n",
       "      <td>0.078081</td>\n",
       "      <td>0.219833</td>\n",
       "    </tr>\n",
       "    <tr>\n",
       "      <th>Room_Type 5</th>\n",
       "      <td>0.000000</td>\n",
       "      <td>0.043478</td>\n",
       "      <td>0.028937</td>\n",
       "      <td>0.007727</td>\n",
       "      <td>0.004545</td>\n",
       "    </tr>\n",
       "    <tr>\n",
       "      <th>Room_Type 6</th>\n",
       "      <td>0.000000</td>\n",
       "      <td>0.035806</td>\n",
       "      <td>0.001669</td>\n",
       "      <td>0.002711</td>\n",
       "      <td>0.035474</td>\n",
       "    </tr>\n",
       "    <tr>\n",
       "      <th>Room_Type 7</th>\n",
       "      <td>0.000000</td>\n",
       "      <td>0.099744</td>\n",
       "      <td>0.002782</td>\n",
       "      <td>0.000542</td>\n",
       "      <td>0.005019</td>\n",
       "    </tr>\n",
       "  </tbody>\n",
       "</table>\n",
       "</div>"
      ],
      "text/plain": [
       "market segment type  Aviation  Complementary  Corporate   Offline    Online\n",
       "room type                                                                  \n",
       "Room_Type 1          0.511364       0.631714   0.921536  0.904026  0.708472\n",
       "Room_Type 2          0.000000       0.051151   0.001113  0.006642  0.026657\n",
       "Room_Type 3          0.000000       0.005115   0.000556  0.000271  0.000000\n",
       "Room_Type 4          0.488636       0.132992   0.043406  0.078081  0.219833\n",
       "Room_Type 5          0.000000       0.043478   0.028937  0.007727  0.004545\n",
       "Room_Type 6          0.000000       0.035806   0.001669  0.002711  0.035474\n",
       "Room_Type 7          0.000000       0.099744   0.002782  0.000542  0.005019"
      ]
     },
     "execution_count": 46,
     "metadata": {},
     "output_type": "execute_result"
    }
   ],
   "source": [
    "pd.crosstab(df_cat_not_cancelled[\"room type\"], df_cat_not_cancelled[\"market segment type\"], normalize= 'columns')"
   ]
  },
  {
   "cell_type": "code",
   "execution_count": 47,
   "metadata": {},
   "outputs": [
    {
     "data": {
      "text/html": [
       "<div>\n",
       "<style scoped>\n",
       "    .dataframe tbody tr th:only-of-type {\n",
       "        vertical-align: middle;\n",
       "    }\n",
       "\n",
       "    .dataframe tbody tr th {\n",
       "        vertical-align: top;\n",
       "    }\n",
       "\n",
       "    .dataframe thead th {\n",
       "        text-align: right;\n",
       "    }\n",
       "</style>\n",
       "<table border=\"1\" class=\"dataframe\">\n",
       "  <thead>\n",
       "    <tr style=\"text-align: right;\">\n",
       "      <th>market segment type</th>\n",
       "      <th>Aviation</th>\n",
       "      <th>Corporate</th>\n",
       "      <th>Offline</th>\n",
       "      <th>Online</th>\n",
       "    </tr>\n",
       "    <tr>\n",
       "      <th>room type</th>\n",
       "      <th></th>\n",
       "      <th></th>\n",
       "      <th></th>\n",
       "      <th></th>\n",
       "    </tr>\n",
       "  </thead>\n",
       "  <tbody>\n",
       "    <tr>\n",
       "      <th>Room_Type 1</th>\n",
       "      <td>0.001653</td>\n",
       "      <td>0.019502</td>\n",
       "      <td>0.339467</td>\n",
       "      <td>0.639379</td>\n",
       "    </tr>\n",
       "    <tr>\n",
       "      <th>Room_Type 2</th>\n",
       "      <td>0.000000</td>\n",
       "      <td>0.000000</td>\n",
       "      <td>0.035088</td>\n",
       "      <td>0.964912</td>\n",
       "    </tr>\n",
       "    <tr>\n",
       "      <th>Room_Type 3</th>\n",
       "      <td>0.000000</td>\n",
       "      <td>0.000000</td>\n",
       "      <td>0.000000</td>\n",
       "      <td>1.000000</td>\n",
       "    </tr>\n",
       "    <tr>\n",
       "      <th>Room_Type 4</th>\n",
       "      <td>0.010633</td>\n",
       "      <td>0.010150</td>\n",
       "      <td>0.017883</td>\n",
       "      <td>0.961334</td>\n",
       "    </tr>\n",
       "    <tr>\n",
       "      <th>Room_Type 5</th>\n",
       "      <td>0.000000</td>\n",
       "      <td>0.305556</td>\n",
       "      <td>0.333333</td>\n",
       "      <td>0.361111</td>\n",
       "    </tr>\n",
       "    <tr>\n",
       "      <th>Room_Type 6</th>\n",
       "      <td>0.000000</td>\n",
       "      <td>0.000000</td>\n",
       "      <td>0.007389</td>\n",
       "      <td>0.992611</td>\n",
       "    </tr>\n",
       "    <tr>\n",
       "      <th>Room_Type 7</th>\n",
       "      <td>0.000000</td>\n",
       "      <td>0.000000</td>\n",
       "      <td>0.027778</td>\n",
       "      <td>0.972222</td>\n",
       "    </tr>\n",
       "  </tbody>\n",
       "</table>\n",
       "</div>"
      ],
      "text/plain": [
       "market segment type  Aviation  Corporate   Offline    Online\n",
       "room type                                                   \n",
       "Room_Type 1          0.001653   0.019502  0.339467  0.639379\n",
       "Room_Type 2          0.000000   0.000000  0.035088  0.964912\n",
       "Room_Type 3          0.000000   0.000000  0.000000  1.000000\n",
       "Room_Type 4          0.010633   0.010150  0.017883  0.961334\n",
       "Room_Type 5          0.000000   0.305556  0.333333  0.361111\n",
       "Room_Type 6          0.000000   0.000000  0.007389  0.992611\n",
       "Room_Type 7          0.000000   0.000000  0.027778  0.972222"
      ]
     },
     "execution_count": 47,
     "metadata": {},
     "output_type": "execute_result"
    }
   ],
   "source": [
    "pd.crosstab(df_cat_cancelled[\"room type\"], df_cat_cancelled[\"market segment type\"], normalize= 'index')"
   ]
  },
  {
   "cell_type": "code",
   "execution_count": 49,
   "metadata": {},
   "outputs": [
    {
     "data": {
      "text/html": [
       "<div>\n",
       "<style scoped>\n",
       "    .dataframe tbody tr th:only-of-type {\n",
       "        vertical-align: middle;\n",
       "    }\n",
       "\n",
       "    .dataframe tbody tr th {\n",
       "        vertical-align: top;\n",
       "    }\n",
       "\n",
       "    .dataframe thead th {\n",
       "        text-align: right;\n",
       "    }\n",
       "</style>\n",
       "<table border=\"1\" class=\"dataframe\">\n",
       "  <thead>\n",
       "    <tr style=\"text-align: right;\">\n",
       "      <th></th>\n",
       "      <th>market segment type</th>\n",
       "      <th>non_cancelled_ratio</th>\n",
       "    </tr>\n",
       "  </thead>\n",
       "  <tbody>\n",
       "    <tr>\n",
       "      <th>0</th>\n",
       "      <td>Aviation</td>\n",
       "      <td>0.704000</td>\n",
       "    </tr>\n",
       "    <tr>\n",
       "      <th>1</th>\n",
       "      <td>Complementary</td>\n",
       "      <td>1.000000</td>\n",
       "    </tr>\n",
       "    <tr>\n",
       "      <th>2</th>\n",
       "      <td>Corporate</td>\n",
       "      <td>0.890927</td>\n",
       "    </tr>\n",
       "    <tr>\n",
       "      <th>3</th>\n",
       "      <td>Offline</td>\n",
       "      <td>0.700503</td>\n",
       "    </tr>\n",
       "    <tr>\n",
       "      <th>4</th>\n",
       "      <td>Online</td>\n",
       "      <td>0.634899</td>\n",
       "    </tr>\n",
       "  </tbody>\n",
       "</table>\n",
       "</div>"
      ],
      "text/plain": [
       "  market segment type  non_cancelled_ratio\n",
       "0            Aviation             0.704000\n",
       "1       Complementary             1.000000\n",
       "2           Corporate             0.890927\n",
       "3             Offline             0.700503\n",
       "4              Online             0.634899"
      ]
     },
     "execution_count": 49,
     "metadata": {},
     "output_type": "execute_result"
    }
   ],
   "source": [
    "market_target = df_cat.groupby('market segment type')['booking status'].agg(['sum','count']).reset_index()\n",
    "market_target[\"non_cancelled_ratio\"] = market_target[\"sum\"] / market_target[\"count\"]\n",
    "market_target.drop([\"sum\",\"count\"], axis= 1, inplace= True)\n",
    "market_target"
   ]
  },
  {
   "cell_type": "code",
   "execution_count": 50,
   "metadata": {},
   "outputs": [
    {
     "data": {
      "image/png": "[encoded data removed]",
      "text/plain": [
       "<Figure size 1000x300 with 1 Axes>"
      ]
     },
     "metadata": {},
     "output_type": "display_data"
    }
   ],
   "source": [
    "plt.figure(figsize=(10,3))\n",
    "bars = plt.bar(market_target[\"market segment type\"], market_target[\"non_cancelled_ratio\"])\n",
    "plt.xlabel(\"market segment type\")\n",
    "plt.ylabel(\"Non cancelled\")\n",
    "for bar in bars:\n",
    "    yval = bar.get_height()\n",
    "    plt.text(bar.get_x() + bar.get_width() / 2, yval, round(yval, 2), ha='center', va='bottom')\n",
    "plt.show()"
   ]
  },
  {
   "cell_type": "code",
   "execution_count": 54,
   "metadata": {},
   "outputs": [
    {
     "data": {
      "text/html": [
       "<div>\n",
       "<style scoped>\n",
       "    .dataframe tbody tr th:only-of-type {\n",
       "        vertical-align: middle;\n",
       "    }\n",
       "\n",
       "    .dataframe tbody tr th {\n",
       "        vertical-align: top;\n",
       "    }\n",
       "\n",
       "    .dataframe thead th {\n",
       "        text-align: right;\n",
       "    }\n",
       "</style>\n",
       "<table border=\"1\" class=\"dataframe\">\n",
       "  <thead>\n",
       "    <tr style=\"text-align: right;\">\n",
       "      <th></th>\n",
       "      <th>repeated</th>\n",
       "      <th>non_cancelled_ratio</th>\n",
       "    </tr>\n",
       "  </thead>\n",
       "  <tbody>\n",
       "    <tr>\n",
       "      <th>0</th>\n",
       "      <td>0</td>\n",
       "      <td>0.664178</td>\n",
       "    </tr>\n",
       "    <tr>\n",
       "      <th>1</th>\n",
       "      <td>1</td>\n",
       "      <td>0.982796</td>\n",
       "    </tr>\n",
       "  </tbody>\n",
       "</table>\n",
       "</div>"
      ],
      "text/plain": [
       "   repeated  non_cancelled_ratio\n",
       "0         0             0.664178\n",
       "1         1             0.982796"
      ]
     },
     "execution_count": 54,
     "metadata": {},
     "output_type": "execute_result"
    }
   ],
   "source": [
    "repeated_target = df_cat.groupby(\"repeated\")[\"booking status\"].agg([\"sum\",\"count\"]).reset_index()\n",
    "repeated_target[\"non_cancelled_ratio\"] = repeated_target[\"sum\"] / repeated_target[\"count\"]\n",
    "repeated_target.drop([\"sum\",\"count\"], axis= 1, inplace= True)\n",
    "repeated_target"
   ]
  },
  {
   "cell_type": "code",
   "execution_count": 57,
   "metadata": {},
   "outputs": [
    {
     "data": {
      "image/png": "[encoded data removed]",
      "text/plain": [
       "<Figure size 400x400 with 1 Axes>"
      ]
     },
     "metadata": {},
     "output_type": "display_data"
    }
   ],
   "source": [
    "plt.figure(figsize=(4,4))\n",
    "bars = plt.bar(repeated_target[\"repeated\"], repeated_target[\"non_cancelled_ratio\"])\n",
    "plt.xlabel(\"Repeated\")\n",
    "plt.ylabel(\"Non cancelled ratio\")\n",
    "for bar in bars:\n",
    "    yval = bar.get_height()\n",
    "    plt.text(bar.get_x() + bar.get_width() / 2, yval, round(yval, 2), ha='center', va='bottom')\n",
    "plt.show()"
   ]
  },
  {
   "cell_type": "markdown",
   "metadata": {},
   "source": [
    "### Time-Series Analysis"
   ]
  },
  {
   "cell_type": "code",
   "execution_count": 52,
   "metadata": {},
   "outputs": [
    {
     "data": {
      "text/plain": [
       "Index(['type of meal', 'car parking space', 'room type', 'market segment type',\n",
       "       'repeated', 'P-C', 'P-not-C', 'booking status'],\n",
       "      dtype='object')"
      ]
     },
     "execution_count": 52,
     "metadata": {},
     "output_type": "execute_result"
    }
   ],
   "source": [
    "df_cat.columns"
   ]
  },
  {
   "cell_type": "markdown",
   "metadata": {},
   "source": [
    "### Numerical Data"
   ]
  },
  {
   "cell_type": "code",
   "execution_count": 61,
   "metadata": {},
   "outputs": [
    {
     "data": {
      "text/html": [
       "<div>\n",
       "<style scoped>\n",
       "    .dataframe tbody tr th:only-of-type {\n",
       "        vertical-align: middle;\n",
       "    }\n",
       "\n",
       "    .dataframe tbody tr th {\n",
       "        vertical-align: top;\n",
       "    }\n",
       "\n",
       "    .dataframe thead th {\n",
       "        text-align: right;\n",
       "    }\n",
       "</style>\n",
       "<table border=\"1\" class=\"dataframe\">\n",
       "  <thead>\n",
       "    <tr style=\"text-align: right;\">\n",
       "      <th></th>\n",
       "      <th>number of adults</th>\n",
       "      <th>number of children</th>\n",
       "      <th>number of weekend nights</th>\n",
       "      <th>number of week nights</th>\n",
       "      <th>car parking space</th>\n",
       "      <th>lead time</th>\n",
       "      <th>repeated</th>\n",
       "      <th>P-C</th>\n",
       "      <th>P-not-C</th>\n",
       "      <th>average price</th>\n",
       "      <th>special requests</th>\n",
       "    </tr>\n",
       "  </thead>\n",
       "  <tbody>\n",
       "    <tr>\n",
       "      <th>count</th>\n",
       "      <td>36285.000000</td>\n",
       "      <td>36285.000000</td>\n",
       "      <td>36285.000000</td>\n",
       "      <td>36285.000000</td>\n",
       "      <td>36285.000000</td>\n",
       "      <td>36285.000000</td>\n",
       "      <td>36285.000000</td>\n",
       "      <td>36285.000000</td>\n",
       "      <td>36285.000000</td>\n",
       "      <td>36285.000000</td>\n",
       "      <td>36285.000000</td>\n",
       "    </tr>\n",
       "    <tr>\n",
       "      <th>mean</th>\n",
       "      <td>1.844839</td>\n",
       "      <td>0.105360</td>\n",
       "      <td>0.810693</td>\n",
       "      <td>2.204602</td>\n",
       "      <td>0.030977</td>\n",
       "      <td>85.239851</td>\n",
       "      <td>0.025630</td>\n",
       "      <td>0.023343</td>\n",
       "      <td>0.153369</td>\n",
       "      <td>103.421636</td>\n",
       "      <td>0.619733</td>\n",
       "    </tr>\n",
       "    <tr>\n",
       "      <th>std</th>\n",
       "      <td>0.518813</td>\n",
       "      <td>0.402704</td>\n",
       "      <td>0.870590</td>\n",
       "      <td>1.410946</td>\n",
       "      <td>0.173258</td>\n",
       "      <td>85.938796</td>\n",
       "      <td>0.158032</td>\n",
       "      <td>0.368281</td>\n",
       "      <td>1.753931</td>\n",
       "      <td>35.086469</td>\n",
       "      <td>0.786262</td>\n",
       "    </tr>\n",
       "    <tr>\n",
       "      <th>min</th>\n",
       "      <td>0.000000</td>\n",
       "      <td>0.000000</td>\n",
       "      <td>0.000000</td>\n",
       "      <td>0.000000</td>\n",
       "      <td>0.000000</td>\n",
       "      <td>0.000000</td>\n",
       "      <td>0.000000</td>\n",
       "      <td>0.000000</td>\n",
       "      <td>0.000000</td>\n",
       "      <td>0.000000</td>\n",
       "      <td>0.000000</td>\n",
       "    </tr>\n",
       "    <tr>\n",
       "      <th>25%</th>\n",
       "      <td>2.000000</td>\n",
       "      <td>0.000000</td>\n",
       "      <td>0.000000</td>\n",
       "      <td>1.000000</td>\n",
       "      <td>0.000000</td>\n",
       "      <td>17.000000</td>\n",
       "      <td>0.000000</td>\n",
       "      <td>0.000000</td>\n",
       "      <td>0.000000</td>\n",
       "      <td>80.300000</td>\n",
       "      <td>0.000000</td>\n",
       "    </tr>\n",
       "    <tr>\n",
       "      <th>50%</th>\n",
       "      <td>2.000000</td>\n",
       "      <td>0.000000</td>\n",
       "      <td>1.000000</td>\n",
       "      <td>2.000000</td>\n",
       "      <td>0.000000</td>\n",
       "      <td>57.000000</td>\n",
       "      <td>0.000000</td>\n",
       "      <td>0.000000</td>\n",
       "      <td>0.000000</td>\n",
       "      <td>99.450000</td>\n",
       "      <td>0.000000</td>\n",
       "    </tr>\n",
       "    <tr>\n",
       "      <th>75%</th>\n",
       "      <td>2.000000</td>\n",
       "      <td>0.000000</td>\n",
       "      <td>2.000000</td>\n",
       "      <td>3.000000</td>\n",
       "      <td>0.000000</td>\n",
       "      <td>126.000000</td>\n",
       "      <td>0.000000</td>\n",
       "      <td>0.000000</td>\n",
       "      <td>0.000000</td>\n",
       "      <td>120.000000</td>\n",
       "      <td>1.000000</td>\n",
       "    </tr>\n",
       "    <tr>\n",
       "      <th>max</th>\n",
       "      <td>4.000000</td>\n",
       "      <td>10.000000</td>\n",
       "      <td>7.000000</td>\n",
       "      <td>17.000000</td>\n",
       "      <td>1.000000</td>\n",
       "      <td>443.000000</td>\n",
       "      <td>1.000000</td>\n",
       "      <td>13.000000</td>\n",
       "      <td>58.000000</td>\n",
       "      <td>540.000000</td>\n",
       "      <td>5.000000</td>\n",
       "    </tr>\n",
       "  </tbody>\n",
       "</table>\n",
       "</div>"
      ],
      "text/plain": [
       "       number of adults  number of children  number of weekend nights  \\\n",
       "count      36285.000000        36285.000000              36285.000000   \n",
       "mean           1.844839            0.105360                  0.810693   \n",
       "std            0.518813            0.402704                  0.870590   \n",
       "min            0.000000            0.000000                  0.000000   \n",
       "25%            2.000000            0.000000                  0.000000   \n",
       "50%            2.000000            0.000000                  1.000000   \n",
       "75%            2.000000            0.000000                  2.000000   \n",
       "max            4.000000           10.000000                  7.000000   \n",
       "\n",
       "       number of week nights  car parking space     lead time      repeated  \\\n",
       "count           36285.000000       36285.000000  36285.000000  36285.000000   \n",
       "mean                2.204602           0.030977     85.239851      0.025630   \n",
       "std                 1.410946           0.173258     85.938796      0.158032   \n",
       "min                 0.000000           0.000000      0.000000      0.000000   \n",
       "25%                 1.000000           0.000000     17.000000      0.000000   \n",
       "50%                 2.000000           0.000000     57.000000      0.000000   \n",
       "75%                 3.000000           0.000000    126.000000      0.000000   \n",
       "max                17.000000           1.000000    443.000000      1.000000   \n",
       "\n",
       "                P-C       P-not-C  average price   special requests  \n",
       "count  36285.000000  36285.000000    36285.000000      36285.000000  \n",
       "mean       0.023343      0.153369      103.421636          0.619733  \n",
       "std        0.368281      1.753931       35.086469          0.786262  \n",
       "min        0.000000      0.000000        0.000000          0.000000  \n",
       "25%        0.000000      0.000000       80.300000          0.000000  \n",
       "50%        0.000000      0.000000       99.450000          0.000000  \n",
       "75%        0.000000      0.000000      120.000000          1.000000  \n",
       "max       13.000000     58.000000      540.000000          5.000000  "
      ]
     },
     "execution_count": 61,
     "metadata": {},
     "output_type": "execute_result"
    }
   ],
   "source": [
    "features_frame.describe()"
   ]
  },
  {
   "cell_type": "code",
   "execution_count": null,
   "metadata": {},
   "outputs": [],
   "source": []
  }
 ],
 "metadata": {
  "kernelspec": {
   "display_name": "base",
   "language": "python",
   "name": "python3"
  },
  "language_info": {
   "codemirror_mode": {
    "name": "ipython",
    "version": 3
   },
   "file_extension": ".py",
   "mimetype": "text/x-python",
   "name": "python",
   "nbconvert_exporter": "python",
   "pygments_lexer": "ipython3",
   "version": "3.11.7"
  }
 },
 "nbformat": 4,
 "nbformat_minor": 2
}
